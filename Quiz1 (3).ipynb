{
 "cells": [
  {
   "cell_type": "code",
   "execution_count": 36,
   "id": "a57aab6d-137e-474e-8cb5-58af25f3525c",
   "metadata": {},
   "outputs": [
    {
     "name": "stdout",
     "output_type": "stream",
     "text": [
      "25\n"
     ]
    }
   ],
   "source": [
    "#Q1.) How do you declare a variable named age and assign the value 25 to it?\n",
    "age=25\n",
    "print(age)"
   ]
  },
  {
   "cell_type": "code",
   "execution_count": 70,
   "id": "92b46dd6-b062-4311-a241-edf1b3f29a16",
   "metadata": {},
   "outputs": [],
   "source": [
    "#Q2.import a CSV file in Jupyter using Pandas?\n",
    "import pandas as pd\n",
    "df = pd.read_csv('file.csv')\n",
    "print(df.head())"
   ]
  },
  {
   "cell_type": "code",
   "execution_count": 66,
   "id": "cf60f9ae-b9f1-42c2-95ec-04126dd21e0b",
   "metadata": {},
   "outputs": [
    {
     "name": "stdout",
     "output_type": "stream",
     "text": [
      "     Name  Age\n",
      "1  Ayesha   30\n",
      "2   Noman   35\n",
      "3    Sara   40\n",
      "4   Ahmed   45\n",
      "5    Zara   50\n"
     ]
    }
   ],
   "source": [
    "#Q3)What Python function can you use to display the last 5 rows of a DataFrame?\n",
    "import pandas as pd\n",
    "data = {\"Name\": [\"Ali\", \"Ayesha\", \"Noman\", \"Sara\", \"Ahmed\", \"Zara\"],\n",
    "        \"Age\": [25, 30, 35, 40, 45, 50]}\n",
    "df = pd.DataFrame(data)\n",
    "print(df.tail())"
   ]
  },
  {
   "cell_type": "code",
   "execution_count": 18,
   "id": "2ea5f325-4420-4685-9a04-bec89059e51e",
   "metadata": {},
   "outputs": [
    {
     "name": "stdout",
     "output_type": "stream",
     "text": [
      "(2, 2)\n"
     ]
    }
   ],
   "source": [
    "#Q4)How do you check the number of rows and columns in a DataFrame?\n",
    "import pandas as pd\n",
    "df = pd.DataFrame({\"Name\": [\"Ali\",\"Sara\"], \n",
    "                   \"Age\": [25, 30]})\n",
    "print(df.shape)"
   ]
  },
  {
   "cell_type": "code",
   "execution_count": 24,
   "id": "932fbf1d-6055-4ce6-b58b-b35c7a9d1288",
   "metadata": {},
   "outputs": [
    {
     "name": "stdout",
     "output_type": "stream",
     "text": [
      "       A      B\n",
      "0  False   True\n",
      "1  False  False\n",
      "2   True  False\n",
      "3  False  False\n"
     ]
    }
   ],
   "source": [
    "#Q5)What function is used to identify missing (null) values in a DataFrame?\n",
    "#is nll()\n",
    "import pandas as pd\n",
    "df = pd.DataFrame({\"A\": [1, 2, None, 4],\n",
    "                   \"B\": [None, 5, 6, 7]})\n",
    "missing_values = df.isnull()\n",
    "print(missing_values)"
   ]
  },
  {
   "cell_type": "code",
   "execution_count": 54,
   "id": "cdb95bee-076f-4e16-a8b7-146646f264de",
   "metadata": {},
   "outputs": [
    {
     "name": "stdout",
     "output_type": "stream",
     "text": [
      "A    1\n",
      "B    1\n",
      "dtype: int64\n"
     ]
    }
   ],
   "source": [
    "#6)How do you count the total number of null values in a DataFrame?\n",
    "import pandas as pd\n",
    "df = pd.DataFrame({\"A\": [1, 2, None, 4], \n",
    "                   \"B\": [None, 5, 6, 7]})\n",
    "print(df.isnull().sum())"
   ]
  },
  {
   "cell_type": "code",
   "execution_count": 32,
   "id": "ae079581-ddd0-4c32-bce5-b273f501ae26",
   "metadata": {},
   "outputs": [
    {
     "name": "stdout",
     "output_type": "stream",
     "text": [
      "2\n"
     ]
    }
   ],
   "source": [
    "#6)\"OR\"\n",
    "import pandas as pd\n",
    "df = pd.DataFrame({\"A\": [1, 2, None, 4], \n",
    "                   \"B\": [None, 5, 6, 7]})\n",
    "print(df.isnull().sum().sum())"
   ]
  },
  {
   "cell_type": "code",
   "execution_count": 26,
   "id": "4ff723a1-5162-42c9-9046-2f1b56f9c0ab",
   "metadata": {},
   "outputs": [
    {
     "name": "stdout",
     "output_type": "stream",
     "text": [
      "   A  B\n",
      "2  2  5\n"
     ]
    }
   ],
   "source": [
    "#7)What method is used to find duplicate rows in a DataFrame?\n",
    "import pandas as pd\n",
    "df = pd.DataFrame({\"A\": [1, 2, 2, 3],\n",
    "                   \"B\": [4, 5, 5, 6]})\n",
    "#duplicates = df[df.duplicated()]\n",
    "#print(duplicates)\n",
    "#\"OR\"\n",
    "print(df[df.duplicated()])"
   ]
  },
  {
   "cell_type": "code",
   "execution_count": 56,
   "id": "7984c04b-ab5f-48d1-a6d8-983d436df5b9",
   "metadata": {},
   "outputs": [
    {
     "name": "stdout",
     "output_type": "stream",
     "text": [
      "True\n"
     ]
    }
   ],
   "source": [
    "#8)How do you check if a specific column in a DataFrame contains duplicate values?\n",
    "import pandas as pd\n",
    "df = pd.DataFrame({\"A\": [1, 2, 2, 3]})\n",
    "print(df[\"A\"].duplicated().any())\n",
    "#any( checks if there is at least one duplicate)"
   ]
  },
  {
   "cell_type": "code",
   "execution_count": 58,
   "id": "cfb80b30-d7ae-453d-91dd-b16cae2f7974",
   "metadata": {},
   "outputs": [
    {
     "name": "stdout",
     "output_type": "stream",
     "text": [
      "   A\n",
      "2  2\n"
     ]
    }
   ],
   "source": [
    "#8(Show vales)\n",
    "import pandas as pd\n",
    "df = pd.DataFrame({\"A\": [1, 2, 2, 3]})\n",
    "duplicates = df[df[\"A\"].duplicated()]\n",
    "print(duplicates)"
   ]
  },
  {
   "cell_type": "code",
   "execution_count": 30,
   "id": "3c27c0a7-c975-4fc2-b3e1-07fa1013c452",
   "metadata": {},
   "outputs": [
    {
     "name": "stdout",
     "output_type": "stream",
     "text": [
      "25.0\n"
     ]
    }
   ],
   "source": [
    "#9)Write Python code to calculate the mean of a column.\n",
    "import pandas as pd\n",
    "df = pd.DataFrame({\"A\": [10, 20, 30, 40],\n",
    "                })\n",
    "print(df[\"A\"].mean())\n",
    "#\"OR\"\n",
    "#print(df.mean())"
   ]
  },
  {
   "cell_type": "code",
   "execution_count": 32,
   "id": "31726a17-2f37-48d7-9c4c-e63b47fed642",
   "metadata": {},
   "outputs": [
    {
     "name": "stdout",
     "output_type": "stream",
     "text": [
      "   A  B\n",
      "0  1  4\n",
      "1  2  5\n",
      "3  3  6\n"
     ]
    }
   ],
   "source": [
    "#10)How do you drop all duplicate rows in a DataFrame?\n",
    "import pandas as pd\n",
    "df = pd.DataFrame({\"A\": [1, 2, 2, 3], \n",
    "                   \"B\": [4, 5, 5, 6]})\n",
    "df = df.drop_duplicates()\n",
    "print(df)"
   ]
  },
  {
   "cell_type": "code",
   "execution_count": 40,
   "id": "bf7692e3-fb84-45f8-8c53-d5d184db7bb3",
   "metadata": {},
   "outputs": [],
   "source": [
    "''11)What is the key difference between Python's lists and arrays from the NumPy\n",
    "library?write code for example?'''(a)\n",
    "Python list stored multiple type of data.\n",
    "(mixed data types)\n",
    "Python list storerd multiple type of data.\n",
    "NumPy arrays are stored only one type of data."
   ]
  },
  {
   "cell_type": "code",
   "execution_count": 7,
   "id": "63b8822f-19dd-4101-ac47-de2f9e496027",
   "metadata": {},
   "outputs": [
    {
     "name": "stdout",
     "output_type": "stream",
     "text": [
      "Python List Result: [2, 4, 6, 8]\n"
     ]
    }
   ],
   "source": [
    "#11(b)Python List Code:\n",
    "import pandas as pd\n",
    "py_list = [1, 2, 3, 4]\n",
    "py_list_result = [x * 2 for x in py_list]\n",
    "print(\"Python List Result:\", py_list_result)\n"
   ]
  },
  {
   "cell_type": "code",
   "execution_count": 42,
   "id": "801f1e7b-ce52-49f8-86df-f3f4aab87764",
   "metadata": {},
   "outputs": [
    {
     "name": "stdout",
     "output_type": "stream",
     "text": [
      "[2, 4, 6]\n"
     ]
    }
   ],
   "source": [
    "#11(OR)\n",
    "import pandas as pd\n",
    "py_list=[1,2,3]\n",
    "py_list_res=[x*2 for x in py_list]\n",
    "print(py_list_res)"
   ]
  },
  {
   "cell_type": "code",
   "execution_count": 9,
   "id": "4d640cc2-2046-4026-a623-296ec4cb5811",
   "metadata": {},
   "outputs": [
    {
     "name": "stdout",
     "output_type": "stream",
     "text": [
      "NumPy Array Result: [2 4 6 8]\n"
     ]
    }
   ],
   "source": [
    "#11(b)NumPy Array Code:\n",
    "import pandas as pd\n",
    "import numpy as np\n",
    "np_array = np.array([1, 2, 3, 4])\n",
    "np_array_result = np_array * 2\n",
    "print(\"NumPy Array Result:\", np_array_result)"
   ]
  }
 ],
 "metadata": {
  "kernelspec": {
   "display_name": "Python [conda env:base] *",
   "language": "python",
   "name": "conda-base-py"
  },
  "language_info": {
   "codemirror_mode": {
    "name": "ipython",
    "version": 3
   },
   "file_extension": ".py",
   "mimetype": "text/x-python",
   "name": "python",
   "nbconvert_exporter": "python",
   "pygments_lexer": "ipython3",
   "version": "3.12.4"
  }
 },
 "nbformat": 4,
 "nbformat_minor": 5
}
